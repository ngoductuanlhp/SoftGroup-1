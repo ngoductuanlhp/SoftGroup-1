{
 "cells": [
  {
   "cell_type": "code",
   "execution_count": 1,
   "metadata": {},
   "outputs": [],
   "source": [
    "%load_ext autoreload\n",
    "%autoreload 2"
   ]
  },
  {
   "cell_type": "code",
   "execution_count": 2,
   "metadata": {},
   "outputs": [],
   "source": [
    "import torch\n",
    "import torch.nn as nn\n",
    "import torch.nn.functional as F\n",
    "from torch.utils.data import Dataset\n",
    "import numpy as np\n",
    "import os\n",
    "from PIL import Image\n",
    "import cv2\n",
    "\n",
    "from plyfile import PlyData, PlyElement\n",
    "from tqdm import tqdm"
   ]
  },
  {
   "cell_type": "code",
   "execution_count": 3,
   "metadata": {},
   "outputs": [],
   "source": [
    "sampled_inds = torch.load('dataset/scannetv2/points/points20')"
   ]
  },
  {
   "cell_type": "code",
   "execution_count": 6,
   "metadata": {},
   "outputs": [
    {
     "name": "stdout",
     "output_type": "stream",
     "text": [
      "1201\n",
      "[79928 50403  5431 73618 10388 33996 66068 68754 36043 60280 19600 50297\n",
      " 73050 55615  7137 17741 57676 20529 31349 41000]\n"
     ]
    }
   ],
   "source": [
    "print(len(sampled_inds.keys()))\n",
    "\n",
    "print(sampled_inds['scene0000_00'])"
   ]
  },
  {
   "cell_type": "code",
   "execution_count": 7,
   "metadata": {},
   "outputs": [
    {
     "name": "stdout",
     "output_type": "stream",
     "text": [
      "1\n",
      "dict_keys(['scene0000_00'])\n"
     ]
    }
   ],
   "source": [
    "sampled_inds = torch.load('dataset/scannetv2/points/points_otoc')\n",
    "print(len(sampled_inds.keys()))\n",
    "print(sampled_inds.keys())\n",
    "# print(sampled_inds['scene0000_00'])"
   ]
  }
 ],
 "metadata": {
  "interpreter": {
   "hash": "10eab561919a0140d240533255ad755482117befba741cb62f158faf92d8fbf7"
  },
  "kernelspec": {
   "display_name": "Python 3.7.11 ('pt')",
   "language": "python",
   "name": "python3"
  },
  "language_info": {
   "codemirror_mode": {
    "name": "ipython",
    "version": 3
   },
   "file_extension": ".py",
   "mimetype": "text/x-python",
   "name": "python",
   "nbconvert_exporter": "python",
   "pygments_lexer": "ipython3",
   "version": "3.7.11"
  },
  "orig_nbformat": 4
 },
 "nbformat": 4,
 "nbformat_minor": 2
}
