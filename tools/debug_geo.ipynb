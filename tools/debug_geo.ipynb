{
 "cells": [
  {
   "cell_type": "code",
   "execution_count": 1,
   "metadata": {},
   "outputs": [],
   "source": [
    "%load_ext autoreload\n",
    "%autoreload 2"
   ]
  },
  {
   "cell_type": "code",
   "execution_count": 2,
   "metadata": {},
   "outputs": [],
   "source": [
    "import os\n",
    "os.environ[\"CUDA_VISIBLE_DEVICES\"] = \"5\""
   ]
  },
  {
   "cell_type": "code",
   "execution_count": 79,
   "metadata": {},
   "outputs": [],
   "source": [
    "\n",
    "import sys\n",
    "sys.path.append('./')\n",
    "\n",
    "import torch\n",
    "import torch.nn as nn\n",
    "from torch.nn import functional as F\n",
    "import numpy as np\n",
    "\n",
    "import pickle\n",
    "import faiss                     # make faiss available\n",
    "import faiss.contrib.torch_utils\n",
    "from tqdm import tqdm\n",
    "\n",
    "from softgroup.pointnet2.pointnet2_utils import furthest_point_sample\n",
    "from softgroup.model.geodesic_utils import cal_geodesic_vectorize2\n",
    "\n",
    "import os\n",
    "\n",
    "\n",
    "import faiss                     # make faiss available\n",
    "import faiss.contrib.torch_utils"
   ]
  },
  {
   "cell_type": "code",
   "execution_count": 52,
   "metadata": {},
   "outputs": [],
   "source": [
    "faiss_cfg = faiss.GpuIndexFlatConfig()\n",
    "faiss_cfg.useFloat16 = True\n",
    "faiss_cfg.device = 0\n",
    "\n",
    "geo_knn = faiss.GpuIndexFlatL2(faiss.StandardGpuResources(), 3, faiss_cfg)"
   ]
  },
  {
   "cell_type": "code",
   "execution_count": 32,
   "metadata": {},
   "outputs": [],
   "source": [
    "with open('/home/ubuntu/fewshot3d_ws/SoftGroup/results/bbox_context/sem_info/info_scene0011_00.pkl', 'rb') as handle:\n",
    "    scene_info = pickle.load(handle)"
   ]
  },
  {
   "cell_type": "code",
   "execution_count": 33,
   "metadata": {},
   "outputs": [],
   "source": [
    "coords_float = torch.from_numpy(scene_info['coords_float']).cuda()\n",
    "semantic_scores = torch.from_numpy(scene_info['semantic_scores']).cuda()\n",
    "semantic_scores = F.softmax(semantic_scores, dim=-1)\n",
    "\n",
    "box_conf = torch.from_numpy(scene_info['box_conf']).cuda()\n"
   ]
  },
  {
   "cell_type": "code",
   "execution_count": 34,
   "metadata": {},
   "outputs": [],
   "source": [
    "semantic_cls_preds = torch.argmax(semantic_scores, dim=-1)\n",
    "\n",
    "object_idxs = torch.nonzero((semantic_cls_preds >= 2)).view(-1)\n",
    "\n",
    "coords_float_ = coords_float[object_idxs]\n",
    "semantic_scores_ = semantic_scores[object_idxs]\n",
    "box_conf_ = box_conf[object_idxs]"
   ]
  },
  {
   "cell_type": "code",
   "execution_count": 80,
   "metadata": {},
   "outputs": [
    {
     "name": "stdout",
     "output_type": "stream",
     "text": [
      "feats_sim torch.Size([128900, 63]) tensor(-9.3516, device='cuda:0', dtype=torch.float16) tensor(-9.3281, device='cuda:0', dtype=torch.float16)\n"
     ]
    }
   ],
   "source": [
    "conf_idxs = torch.nonzero(box_conf_ >= 0.6).view(-1)\n",
    "\n",
    "# print(conf_idxs.shape)\n",
    "\n",
    "candidates_float = coords_float_[conf_idxs].unsqueeze(0)\n",
    "queries_inds = furthest_point_sample(candidates_float, 64).squeeze(0)\n",
    "\n",
    "queries_idxs = conf_idxs[queries_inds.long()]\n",
    "\n",
    "geo_dist = cal_geodesic_vectorize2(geo_knn, queries_idxs, coords_float_, semantic_scores_, n_queries=64)"
   ]
  },
  {
   "cell_type": "code",
   "execution_count": 76,
   "metadata": {},
   "outputs": [
    {
     "name": "stdout",
     "output_type": "stream",
     "text": [
      "tensor([1], device='cuda:0')\n",
      "\n"
     ]
    }
   ],
   "source": [
    "sum_len = torch.sum(geo_dist != -1, dim=-1)\n",
    "print(torch.unique(sum_len))\n",
    "print()"
   ]
  },
  {
   "cell_type": "code",
   "execution_count": 50,
   "metadata": {},
   "outputs": [],
   "source": [
    "\n",
    "save_dict = dict(\n",
    "    object_idxs=object_idxs,\n",
    "    queries_idxs=queries_idxs\n",
    ")\n",
    "\n",
    "with open(f'/home/ubuntu/fewshot3d_ws/SoftGroup/results/bbox_context/inds/inds_scene0011_00.pkl', 'wb') as handle:\n",
    "    pickle.dump(save_dict, handle, protocol=pickle.HIGHEST_PROTOCOL)"
   ]
  }
 ],
 "metadata": {
  "kernelspec": {
   "display_name": "Python 3.8.13 ('tuannd42')",
   "language": "python",
   "name": "python3"
  },
  "language_info": {
   "codemirror_mode": {
    "name": "ipython",
    "version": 3
   },
   "file_extension": ".py",
   "mimetype": "text/x-python",
   "name": "python",
   "nbconvert_exporter": "python",
   "pygments_lexer": "ipython3",
   "version": "3.8.13"
  },
  "orig_nbformat": 4,
  "vscode": {
   "interpreter": {
    "hash": "ed7d046e27c45c22a5deff5c7b744cd2aa30e15ab9f7ac74b3646323b422ebd3"
   }
  }
 },
 "nbformat": 4,
 "nbformat_minor": 2
}
